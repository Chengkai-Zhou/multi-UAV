{
 "cells": [
  {
   "cell_type": "code",
   "execution_count": 3,
   "id": "8cd20c9c-8387-4f99-97c1-89d1bced99ab",
   "metadata": {},
   "outputs": [],
   "source": [
    "import math\n",
    "import numpy as np"
   ]
  },
  {
   "cell_type": "code",
   "execution_count": 13,
   "id": "b8e75c85-5267-4fd0-9bae-81c3333a5dc6",
   "metadata": {
    "tags": []
   },
   "outputs": [],
   "source": [
    "def init_trap(size, samp_fre):\n",
    "    tot_grids = size*size\n",
    "    num_trap = math.floor(samp_fre*tot_grids)\n",
    "    samp_trap = np.random.randint(0,tot_grids,(num_trap,2))   \n",
    "    print('trap:',samp_trap)"
   ]
  },
  {
   "cell_type": "code",
   "execution_count": 17,
   "id": "8d8f1627-efb9-4e3f-987b-7d1cc7ddb335",
   "metadata": {
    "tags": []
   },
   "outputs": [],
   "source": [
    "position = [1,2]\n",
    "a = [[1,2],[2,3]]"
   ]
  },
  {
   "cell_type": "code",
   "execution_count": 20,
   "id": "f27b4dc4-d891-46ff-a650-2087351151a0",
   "metadata": {
    "tags": []
   },
   "outputs": [
    {
     "name": "stdout",
     "output_type": "stream",
     "text": [
      "Y\n"
     ]
    }
   ],
   "source": [
    "if position in a:\n",
    "    print('Y')"
   ]
  },
  {
   "cell_type": "code",
   "execution_count": 24,
   "id": "dce669fc-5827-4f28-b9c8-f857995abf8e",
   "metadata": {
    "tags": []
   },
   "outputs": [],
   "source": [
    "a = (1,2)\n",
    "b = (2,3)"
   ]
  },
  {
   "cell_type": "code",
   "execution_count": 36,
   "id": "d55ad107-0c62-4fe1-b219-859ef53e4be4",
   "metadata": {},
   "outputs": [],
   "source": [
    "import math\n",
    "def l2(p1,p2):\n",
    "    temp = math.pow((p1[0]-p2[0]),2)+math.pow((p1[1]-p2[1]),2)\n",
    "    l2_dis = math.sqrt(temp)\n",
    "    return l2_dis"
   ]
  },
  {
   "cell_type": "code",
   "execution_count": 49,
   "id": "c37a5552-38e2-4458-b7d6-3734eda8d964",
   "metadata": {
    "tags": []
   },
   "outputs": [],
   "source": [
    "def get_area_center(position_list):\n",
    "    x = math.floor((max(position_list)[0] + min(position_list)[0])/2)\n",
    "    y = math.floor((max(position_list)[1] + min(position_list)[1])/2)\n",
    "    return (x,y)"
   ]
  },
  {
   "cell_type": "code",
   "execution_count": 50,
   "id": "5dd83190-3c02-4c9f-a8af-664dddb6d3fc",
   "metadata": {
    "tags": []
   },
   "outputs": [],
   "source": [
    " p= [(22, 22), (23, 22), (24, 22), (25, 22), (26, 22), (27, 22), (28, 22), (22, 23), (23, 23), (24, 23), (25, 23), (26, 23), (27, 23), (28, 23), (22, 24), (23, 24), (27, 24), (28, 24), (22, 25), (23, 25), (27, 25), (28, 25), (22, 26), (23, 26), (27, 26), (28, 26), (22, 27), (23, 27), (24, 27), (25, 27), (26, 27), (27, 27), (28, 27), (22, 28), (23, 28), (24, 28), (25, 28), (26, 28), (27, 28), (28, 28)]"
   ]
  },
  {
   "cell_type": "code",
   "execution_count": 53,
   "id": "b583e5a1-bc84-4ee4-ad5b-9c90dddb0782",
   "metadata": {
    "tags": []
   },
   "outputs": [
    {
     "data": {
      "text/plain": [
       "1"
      ]
     },
     "execution_count": 53,
     "metadata": {},
     "output_type": "execute_result"
    }
   ],
   "source": [
    "abs(-1)"
   ]
  },
  {
   "cell_type": "code",
   "execution_count": 60,
   "id": "03f2c90f-17fc-4612-bd48-98cce878120d",
   "metadata": {},
   "outputs": [
    {
     "data": {
      "text/plain": [
       "[9, 8, 3, 3, 4]"
      ]
     },
     "execution_count": 60,
     "metadata": {},
     "output_type": "execute_result"
    }
   ],
   "source": [
    "import random\n",
    "list_1 = [random.randrange(0,10,1) for i in range(5)]\n",
    "list_1"
   ]
  },
  {
   "cell_type": "code",
   "execution_count": 61,
   "id": "3c74a671-20cb-4497-80a5-8a39b9779111",
   "metadata": {
    "tags": []
   },
   "outputs": [
    {
     "data": {
      "text/plain": [
       "[1, 2, 3, 4, 5, 6, 7]"
      ]
     },
     "execution_count": 61,
     "metadata": {},
     "output_type": "execute_result"
    }
   ],
   "source": [
    "[i for i in range(1,8)]"
   ]
  },
  {
   "cell_type": "code",
   "execution_count": null,
   "id": "d02380f9-7bc8-403b-988e-66880f471e4f",
   "metadata": {
    "tags": []
   },
   "outputs": [],
   "source": []
  },
  {
   "cell_type": "code",
   "execution_count": null,
   "id": "d661cac9-9a3c-4d51-a911-4f1a4ecdb51e",
   "metadata": {},
   "outputs": [],
   "source": []
  }
 ],
 "metadata": {
  "kernelspec": {
   "display_name": "Python 3 (ipykernel)",
   "language": "python",
   "name": "python3"
  },
  "language_info": {
   "codemirror_mode": {
    "name": "ipython",
    "version": 3
   },
   "file_extension": ".py",
   "mimetype": "text/x-python",
   "name": "python",
   "nbconvert_exporter": "python",
   "pygments_lexer": "ipython3",
   "version": "3.7.12"
  }
 },
 "nbformat": 4,
 "nbformat_minor": 5
}
